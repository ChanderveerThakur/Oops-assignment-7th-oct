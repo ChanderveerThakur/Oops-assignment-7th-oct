{
 "cells": [
  {
   "cell_type": "markdown",
   "id": "4f258ee5",
   "metadata": {},
   "source": [
    "Problem 1: Bank Account Create a class representing a bank account with attributes like account number, account holder name, and balance. Implement methods to deposit and withdraw money from the account"
   ]
  },
  {
   "cell_type": "code",
   "execution_count": 67,
   "id": "6afa6636",
   "metadata": {},
   "outputs": [],
   "source": [
    "class bank_account: \n",
    "    def __init__(self, account_number,account_holder_name, balance = 0):\n",
    "        self.account_number = account_number\n",
    "        self.account_holder_name = account_holder_name\n",
    "        self.balance = balance\n",
    "        \n",
    "    def deposit(self, amount):\n",
    "        self.balance+=amount\n",
    "        print(f'{amount} is deposited successfully')\n",
    "    \n",
    "    def withdraw(self,amount):\n",
    "        self.balance-=amount\n",
    "        print(f'{amount} is withdrawn successfully')"
   ]
  },
  {
   "cell_type": "code",
   "execution_count": 68,
   "id": "aa24cb7e",
   "metadata": {},
   "outputs": [],
   "source": [
    "a = bank_account(12,\"ch\")"
   ]
  },
  {
   "cell_type": "code",
   "execution_count": 69,
   "id": "51301ba6",
   "metadata": {},
   "outputs": [
    {
     "name": "stdout",
     "output_type": "stream",
     "text": [
      "500 is deposited successfully\n"
     ]
    }
   ],
   "source": [
    "a.deposit(500)"
   ]
  },
  {
   "cell_type": "code",
   "execution_count": 70,
   "id": "91d2cebd",
   "metadata": {},
   "outputs": [
    {
     "name": "stdout",
     "output_type": "stream",
     "text": [
      "300 is withdrawn successfully\n"
     ]
    }
   ],
   "source": [
    "a.withdraw(300)"
   ]
  },
  {
   "cell_type": "code",
   "execution_count": 71,
   "id": "99bbd847",
   "metadata": {},
   "outputs": [
    {
     "data": {
      "text/plain": [
       "200"
      ]
     },
     "execution_count": 71,
     "metadata": {},
     "output_type": "execute_result"
    }
   ],
   "source": [
    "a.balance"
   ]
  },
  {
   "cell_type": "markdown",
   "id": "75b3f45d",
   "metadata": {},
   "source": [
    "Problem 2: Employee Management Create a class representing an employee with attributes like employee ID, name, and salary. Implement methods to calculate the yearly bonus and display employee details"
   ]
  },
  {
   "cell_type": "code",
   "execution_count": 72,
   "id": "f8814b23",
   "metadata": {},
   "outputs": [],
   "source": [
    "class employee_management:\n",
    "    def __init__(self, emp_id,name,salary):\n",
    "        self.emp_id = emp_id\n",
    "        self.name = name\n",
    "        self.salary = salary\n",
    "    \n",
    "    def bonus_and_details(self, overtime_hours):\n",
    "        if overtime_hours >= 50 and overtime_hours < 100:\n",
    "            print('Your bonus would be 10000' , f''' \n",
    "Employee_Details: \n",
    "Employee_id: {self.emp_id} Employee Name: {self.name}, Salary: {self.salary}''')\n",
    "            \n",
    "            \n",
    "        elif overtime_hours >=100 and overtime_hours < 200:\n",
    "            print('Your bonus would be 20000' , f''' \n",
    "Employee_Details: \n",
    "Employee_id: {self.emp_id} Employee Name: {self.name}, Salary: {self.salary}''')\n",
    "            \n",
    "            \n",
    "        elif overtime_hours >=200:\n",
    "            print('Your bonus would be 30000' , f''' \n",
    "Employee_Details: \n",
    "Employee_id: {self.emp_id} Employee Name: {self.name}, Salary: {self.salary}''')\n",
    "        \n",
    "        \n",
    "    \n",
    "    "
   ]
  },
  {
   "cell_type": "code",
   "execution_count": 73,
   "id": "8a228d9b",
   "metadata": {},
   "outputs": [],
   "source": [
    "b = employee_management(2,\"Ch\",20000)"
   ]
  },
  {
   "cell_type": "code",
   "execution_count": 74,
   "id": "df96cfec",
   "metadata": {},
   "outputs": [
    {
     "name": "stdout",
     "output_type": "stream",
     "text": [
      "Your bonus would be 20000  \n",
      "Employee_Details: \n",
      "Employee_id: 2 Employee Name: Ch, Salary: 20000\n"
     ]
    }
   ],
   "source": [
    "b.bonus_and_details(150)"
   ]
  },
  {
   "cell_type": "markdown",
   "id": "4d75b95c",
   "metadata": {},
   "source": [
    "Problem 3: Vehicle Rental Create a class representing a vehicle rental system. Implement methods to rent a vehicle, return a vehicle, and display available vehicles."
   ]
  },
  {
   "cell_type": "code",
   "execution_count": 75,
   "id": "283d3827",
   "metadata": {},
   "outputs": [],
   "source": [
    "class vehicle_rental:\n",
    "    def __init__(self):\n",
    "        self.inventory  = {\"car\": 5 , \"bike\": 10}\n",
    "    \n",
    "    def rent_vehicle(self, vehicle_type):\n",
    "        if vehicle_type in self.inventory and self.inventory[vehicle_type] > 0:\n",
    "            self.inventory[vehicle_type]-=1\n",
    "            print(\"Vehicle Rented successfully\")\n",
    "        else:\n",
    "            print(\"All Vehicles are rented out\")\n",
    "            \n",
    "    def returning_vehicle(self, vehicle_type):\n",
    "        if vehicle_type in self.inventory:\n",
    "            self.inventory[vehicle_type]+=1\n",
    "            print(\"Vehicle retured successfully\")\n",
    "            \n",
    "    def display_available_vehicles(self):\n",
    "        \n",
    "        available_vehicles = {k: v for k, v in self.inventory.items() if v > 0}\n",
    "        return available_vehicles\n",
    "            \n",
    "        "
   ]
  },
  {
   "cell_type": "code",
   "execution_count": 76,
   "id": "047457de",
   "metadata": {},
   "outputs": [],
   "source": [
    "a = vehicle_rental()\n",
    "b = vehicle_rental()"
   ]
  },
  {
   "cell_type": "code",
   "execution_count": 77,
   "id": "b73c928c",
   "metadata": {},
   "outputs": [
    {
     "name": "stdout",
     "output_type": "stream",
     "text": [
      "Vehicle Rented successfully\n",
      "Vehicle Rented successfully\n",
      "Vehicle Rented successfully\n"
     ]
    }
   ],
   "source": [
    "a.rent_vehicle('car')\n",
    "a.rent_vehicle('bike')\n",
    "b.rent_vehicle('car')"
   ]
  },
  {
   "cell_type": "markdown",
   "id": "16921246",
   "metadata": {},
   "source": [
    "Problem 4: Library Catalog Create classes representing a library and a book. Implement methods to add books to the library, borrow books, and display available books."
   ]
  },
  {
   "cell_type": "code",
   "execution_count": 78,
   "id": "2bbbab10",
   "metadata": {},
   "outputs": [],
   "source": [
    "class library:\n",
    "    def __init__(self):\n",
    "        self.inventory = []\n",
    "        \n",
    "    def add_book(self, book_name):\n",
    "        self.book_name = book_name\n",
    "        if self.book_name not in self.inventory:\n",
    "            self.inventory.append(self.book_name)\n",
    "            print('Book added successfully')\n",
    "        else:\n",
    "            print(f\"{self.book_name} is already exists.\")\n",
    "    \n",
    "    def borrow(self, book_name):\n",
    "        self.book_name = book_name\n",
    "        if self.book_name in self.inventory:\n",
    "            self.inventory.remove(self.book_name)\n",
    "            print(\"Book is available\")\n",
    "        else:\n",
    "            print(\"Book is not available\")\n",
    "            \n",
    "    def display_available(self):\n",
    "        print(self.inventory)\n",
    "        \n",
    "        "
   ]
  },
  {
   "cell_type": "code",
   "execution_count": 79,
   "id": "8e13d08c",
   "metadata": {},
   "outputs": [],
   "source": [
    "ram = library()\n"
   ]
  },
  {
   "cell_type": "code",
   "execution_count": 80,
   "id": "6b23ff2c",
   "metadata": {},
   "outputs": [
    {
     "name": "stdout",
     "output_type": "stream",
     "text": [
      "Book added successfully\n"
     ]
    }
   ],
   "source": [
    "ram.add_book(\"NCERT\")\n"
   ]
  },
  {
   "cell_type": "code",
   "execution_count": 81,
   "id": "4dcc532b",
   "metadata": {},
   "outputs": [
    {
     "name": "stdout",
     "output_type": "stream",
     "text": [
      "Book added successfully\n"
     ]
    }
   ],
   "source": [
    "ram.add_book(\"Maths\")\n"
   ]
  },
  {
   "cell_type": "code",
   "execution_count": 82,
   "id": "07696dc6",
   "metadata": {},
   "outputs": [
    {
     "name": "stdout",
     "output_type": "stream",
     "text": [
      "Book is available\n"
     ]
    }
   ],
   "source": [
    "ram.borrow(\"Maths\")\n"
   ]
  },
  {
   "cell_type": "code",
   "execution_count": 83,
   "id": "530f8a6d",
   "metadata": {},
   "outputs": [
    {
     "name": "stdout",
     "output_type": "stream",
     "text": [
      "['NCERT']\n"
     ]
    }
   ],
   "source": [
    "ram.display_available()\n"
   ]
  },
  {
   "cell_type": "markdown",
   "id": "86de4d39",
   "metadata": {},
   "source": [
    "Problem 5: Product Inventory Create classes representing a product and an inventory system. Implement methods to add products to the inventory, update product quantity, and display available products"
   ]
  },
  {
   "cell_type": "code",
   "execution_count": 84,
   "id": "60fafe50",
   "metadata": {},
   "outputs": [],
   "source": [
    "class product_inventory:\n",
    "    def __init__(self):\n",
    "        self.inventory = {}\n",
    "       \n",
    "    \n",
    "    def add(self, product ):\n",
    "        self.product = product\n",
    "        \n",
    "        if self.product in self.inventory:\n",
    "            print(\"Product already exists\")\n",
    "            \n",
    "        else:\n",
    "            self.inventory[product] = product\n",
    "            print('product added successfully')\n",
    "\n",
    "\n",
    "    def update(self,product,quantity):\n",
    "        if product in self.inventory:\n",
    "            self.inventory[product] = quantity\n",
    "            print(\"Quanity updated successfully\")\n",
    "        else:\n",
    "            print(\"product already exists\")\n",
    "            \n",
    "    def display_available_products(self):\n",
    "        print(self.inventory)\n",
    "    \n",
    "            \n",
    "    \n",
    "        \n",
    "    "
   ]
  },
  {
   "cell_type": "code",
   "execution_count": 85,
   "id": "6a82d398",
   "metadata": {},
   "outputs": [],
   "source": [
    "a = product_inventory()"
   ]
  },
  {
   "cell_type": "code",
   "execution_count": 86,
   "id": "42932888",
   "metadata": {},
   "outputs": [
    {
     "name": "stdout",
     "output_type": "stream",
     "text": [
      "product added successfully\n"
     ]
    }
   ],
   "source": [
    "a.add('pen')"
   ]
  },
  {
   "cell_type": "code",
   "execution_count": 87,
   "id": "6e5f5418",
   "metadata": {},
   "outputs": [
    {
     "name": "stdout",
     "output_type": "stream",
     "text": [
      "Quanity updated successfully\n"
     ]
    }
   ],
   "source": [
    "a.update('pen',4)"
   ]
  },
  {
   "cell_type": "code",
   "execution_count": 88,
   "id": "6c5d36a4",
   "metadata": {},
   "outputs": [
    {
     "name": "stdout",
     "output_type": "stream",
     "text": [
      "product added successfully\n"
     ]
    }
   ],
   "source": [
    "a.add('soap')"
   ]
  },
  {
   "cell_type": "code",
   "execution_count": 89,
   "id": "c9c50ac3",
   "metadata": {},
   "outputs": [
    {
     "name": "stdout",
     "output_type": "stream",
     "text": [
      "Quanity updated successfully\n"
     ]
    }
   ],
   "source": [
    "a.update('soap',8)"
   ]
  },
  {
   "cell_type": "code",
   "execution_count": 90,
   "id": "7dcfbd57",
   "metadata": {},
   "outputs": [
    {
     "name": "stdout",
     "output_type": "stream",
     "text": [
      "{'pen': 4, 'soap': 8}\n"
     ]
    }
   ],
   "source": [
    "a.display_available_products()"
   ]
  },
  {
   "cell_type": "markdown",
   "id": "1e18f879",
   "metadata": {},
   "source": [
    "Problem 6: Shape Calculation Create a class representing a shape with attributes like length, width, and height. Implement methods to calculate the area and perimeter of the shape."
   ]
  },
  {
   "cell_type": "code",
   "execution_count": 91,
   "id": "4510a98b",
   "metadata": {},
   "outputs": [],
   "source": [
    "class shape_calc:\n",
    "    def __init__(self,length,width,height):\n",
    "        self.length = length\n",
    "        self.width = width\n",
    "        self.height = height\n",
    "        \n",
    "    def area(self):\n",
    "        print(self.length * self.width * self.height)\n",
    "        \n",
    "    def perameter(self):\n",
    "        lw = self.length * self.width\n",
    "        lh = self.length * self.height\n",
    "        wh = self.width * self.height\n",
    "        return 2 * (lw + lh + wh)\n",
    "    "
   ]
  },
  {
   "cell_type": "code",
   "execution_count": 92,
   "id": "338e94f0",
   "metadata": {},
   "outputs": [
    {
     "name": "stdout",
     "output_type": "stream",
     "text": [
      "24\n"
     ]
    },
    {
     "data": {
      "text/plain": [
       "52"
      ]
     },
     "execution_count": 92,
     "metadata": {},
     "output_type": "execute_result"
    }
   ],
   "source": [
    "a = shape_calc(2,3,4)\n",
    "a.area()\n",
    "a.perameter()\n"
   ]
  },
  {
   "cell_type": "markdown",
   "id": "17fa41a4",
   "metadata": {},
   "source": [
    "Problem 7: Student Management Create a class representing a student with attributes like student ID, name, and grades. Implement methods to calculate the average grade and display student details."
   ]
  },
  {
   "cell_type": "code",
   "execution_count": 93,
   "id": "3ed048ac",
   "metadata": {},
   "outputs": [],
   "source": [
    "class student_management:\n",
    "    def __init__(self,student_id,name,grade=[]):\n",
    "        self.student_id = student_id\n",
    "        self.name = name\n",
    "        self.grade = grade\n",
    "    def avg_grade(self):\n",
    "        print(f\"Average Grade:{sum(self.grade)/len(self.grade)}\")\n",
    "        \n",
    "    def student_details(self):\n",
    "        print(f\"student id: {self.student_id}, student name: {self.name}\")"
   ]
  },
  {
   "cell_type": "code",
   "execution_count": 94,
   "id": "81b8081d",
   "metadata": {},
   "outputs": [
    {
     "name": "stdout",
     "output_type": "stream",
     "text": [
      "Average Grade:40.75\n",
      "student id: 2, student name: ch\n"
     ]
    }
   ],
   "source": [
    "a = student_management(2,'ch',[40,55,30,38])\n",
    "a.avg_grade()\n",
    "a.student_details()\n"
   ]
  },
  {
   "cell_type": "markdown",
   "id": "a60874a6",
   "metadata": {},
   "source": [
    "Problem 8: Email Management Create a class representing an email with attributes like sender, recipient, and subject. Implement methods to send an email and display email details."
   ]
  },
  {
   "cell_type": "code",
   "execution_count": 95,
   "id": "b122a2e5",
   "metadata": {},
   "outputs": [],
   "source": [
    "class email_management:\n",
    "    def __init__(self, sender , recipient , subject):\n",
    "        self.sender = sender\n",
    "        self.recipient = recipient\n",
    "        self.subject = subject\n",
    "    def send_email(self):\n",
    "        print(f\"Email has sent from {self.sender} to {self.recipient}\")\n",
    "    def display_email_details(self):\n",
    "        print(f\"Sender name : {self.sender}, Recipient name: {self.recipient}, Subject: {self.subject}\")"
   ]
  },
  {
   "cell_type": "code",
   "execution_count": 96,
   "id": "863b7f22",
   "metadata": {},
   "outputs": [
    {
     "name": "stdout",
     "output_type": "stream",
     "text": [
      "Sender name : Chander, Recipient name: HR, Subject: Applying for data science job\n",
      "Email has sent from Chander to HR\n"
     ]
    }
   ],
   "source": [
    "a = email_management(\"Chander\" , 'HR', \"Applying for data science job\")\n",
    "\n",
    "a.display_email_details()\n",
    "\n",
    "a.send_email()"
   ]
  },
  {
   "cell_type": "markdown",
   "id": "0d6f1181",
   "metadata": {},
   "source": [
    "Problem 9: Social Media Profile Create a class representing a social media profile with attributes like username and posts. Implement methods to add posts, display posts, and search for posts by keyword."
   ]
  },
  {
   "cell_type": "code",
   "execution_count": 139,
   "id": "713d3b15",
   "metadata": {},
   "outputs": [],
   "source": [
    "class social_media:\n",
    "    def __init__(self, content):\n",
    "        self.content = content\n",
    "        \n",
    "    def __init__(self, username ):\n",
    "        self.username = username\n",
    "        self.posts = []\n",
    "    def add_posts(self , content):\n",
    "        post = post(content)\n",
    "        self.posts.append(post)\n",
    "    \n",
    "    def display_posts(self):\n",
    "        for i in self.post:\n",
    "            print(i)\n",
    "            \n",
    "    def search_posts_by_keyword(self, keyword):\n",
    "        matching_posts = [post for post in self.posts if keyword in post.content]\n",
    "        if not matching_posts:\n",
    "            print(f\"No posts found containing the keyword: {keyword}\")\n",
    "            return\n",
    "        print(f\"Posts containing '{keyword}':\")\n",
    "        for post in matching_posts:\n",
    "            print(post)      \n",
    "            \n",
    "      \n",
    "            "
   ]
  },
  {
   "cell_type": "code",
   "execution_count": null,
   "id": "4f872836",
   "metadata": {},
   "outputs": [],
   "source": []
  },
  {
   "cell_type": "code",
   "execution_count": null,
   "id": "ce6041d4",
   "metadata": {},
   "outputs": [],
   "source": []
  },
  {
   "cell_type": "code",
   "execution_count": null,
   "id": "089de2f3",
   "metadata": {},
   "outputs": [],
   "source": []
  },
  {
   "cell_type": "code",
   "execution_count": null,
   "id": "f3eebfff",
   "metadata": {},
   "outputs": [],
   "source": []
  },
  {
   "cell_type": "code",
   "execution_count": null,
   "id": "7c8a1dae",
   "metadata": {},
   "outputs": [],
   "source": []
  },
  {
   "cell_type": "code",
   "execution_count": null,
   "id": "b091f41b",
   "metadata": {},
   "outputs": [],
   "source": []
  },
  {
   "cell_type": "code",
   "execution_count": null,
   "id": "64e774be",
   "metadata": {},
   "outputs": [],
   "source": []
  },
  {
   "cell_type": "code",
   "execution_count": null,
   "id": "bd2dc0cb",
   "metadata": {},
   "outputs": [],
   "source": []
  },
  {
   "cell_type": "code",
   "execution_count": null,
   "id": "062848fa",
   "metadata": {},
   "outputs": [],
   "source": []
  }
 ],
 "metadata": {
  "kernelspec": {
   "display_name": "Python 3 (ipykernel)",
   "language": "python",
   "name": "python3"
  },
  "language_info": {
   "codemirror_mode": {
    "name": "ipython",
    "version": 3
   },
   "file_extension": ".py",
   "mimetype": "text/x-python",
   "name": "python",
   "nbconvert_exporter": "python",
   "pygments_lexer": "ipython3",
   "version": "3.10.9"
  }
 },
 "nbformat": 4,
 "nbformat_minor": 5
}
